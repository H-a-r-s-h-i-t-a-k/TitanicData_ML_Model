{
 "cells": [
  {
   "cell_type": "code",
   "execution_count": 2,
   "metadata": {},
   "outputs": [],
   "source": [
    "# Importing the necessary libraries\n",
    "# Load the dataset\n",
    "# Identify the categorical data\n",
    "# Implement an instance of the ColumnTransformer class\n",
    "# Apply the fit_transform method on the instance of ColumnTransformer\n",
    "# Convert the output into a NumPy array\n",
    "# Use LabelEncoder to encode binary categorical data\n",
    "# Print the updated matrix of features and the dependent variable vector\n",
    "\n",
    "# Importing the necessary libraries\n",
    "import numpy as np\n",
    "import matplotlib.pyplot as plt \n",
    "import pandas as pd\n",
    "from sklearn.compose  import ColumnTransformer\n",
    "from sklearn.preprocessing import OneHotEncoder, LabelEncoder\n",
    "\n"
   ]
  },
  {
   "cell_type": "code",
   "execution_count": 3,
   "metadata": {},
   "outputs": [
    {
     "name": "stdout",
     "output_type": "stream",
     "text": [
      "    PassengerId  Survived  Pclass  \\\n",
      "0             2         1       1   \n",
      "1             4         1       1   \n",
      "2             7         0       1   \n",
      "3            11         1       3   \n",
      "4            12         1       1   \n",
      "5            22         1       2   \n",
      "6            24         1       1   \n",
      "7            28         0       1   \n",
      "8            53         1       1   \n",
      "9            55         0       1   \n",
      "10           63         0       1   \n",
      "11           67         1       2   \n",
      "12           76         0       3   \n",
      "13           89         1       1   \n",
      "14           93         0       1   \n",
      "15           97         0       1   \n",
      "16           98         1       1   \n",
      "17          103         0       1   \n",
      "18          111         0       1   \n",
      "19          119         0       1   \n",
      "20          124         1       2   \n",
      "21          125         0       1   \n",
      "22          137         1       1   \n",
      "23          138         0       1   \n",
      "24          140         0       1   \n",
      "25          149         0       2   \n",
      "26          152         1       1   \n",
      "27          171         0       1   \n",
      "28          175         0       1   \n",
      "29          178         0       1   \n",
      "30          184         1       2   \n",
      "\n",
      "                                                 Name     Sex   Age  SibSp  \\\n",
      "0   Cumings, Mrs. John Bradley (Florence Briggs Th...  female  38.0      1   \n",
      "1        Futrelle, Mrs. Jacques Heath (Lily May Peel)  female  35.0      1   \n",
      "2                             McCarthy, Mr. Timothy J    male  54.0      0   \n",
      "3                     Sandstrom, Miss. Marguerite Rut  female   4.0      1   \n",
      "4                            Bonnell, Miss. Elizabeth  female  58.0      0   \n",
      "5                               Beesley, Mr. Lawrence    male  34.0      0   \n",
      "6                        Sloper, Mr. William Thompson    male  28.0      0   \n",
      "7                      Fortune, Mr. Charles Alexander    male  19.0      3   \n",
      "8            Harper, Mrs. Henry Sleeper (Myna Haxtun)  female  49.0      1   \n",
      "9                      Ostby, Mr. Engelhart Cornelius    male  65.0      0   \n",
      "10                        Harris, Mr. Henry Birkhardt    male  45.0      1   \n",
      "11                       Nye, Mrs. (Elizabeth Ramell)  female  29.0      0   \n",
      "12                            Moen, Mr. Sigurd Hansen    male  25.0      0   \n",
      "13                         Fortune, Miss. Mabel Helen  female  23.0      3   \n",
      "14                        Chaffee, Mr. Herbert Fuller    male  46.0      1   \n",
      "15                          Goldschmidt, Mr. George B    male  71.0      0   \n",
      "16                    Greenfield, Mr. William Bertram    male  23.0      0   \n",
      "17                          White, Mr. Richard Frasar    male  21.0      0   \n",
      "18                     Porter, Mr. Walter Chamberlain    male  47.0      0   \n",
      "19                           Baxter, Mr. Quigg Edmond    male  24.0      0   \n",
      "20                                Webber, Miss. Susan  female  32.5      0   \n",
      "21                        White, Mr. Percival Wayland    male  54.0      0   \n",
      "22                       Newsom, Miss. Helen Monypeny  female  19.0      0   \n",
      "23                        Futrelle, Mr. Jacques Heath    male  37.0      1   \n",
      "24                                 Giglio, Mr. Victor    male  24.0      0   \n",
      "25           Navratil, Mr. Michel (\"Louis M Hoffman\")    male  36.5      0   \n",
      "26                  Pears, Mrs. Thomas (Edith Wearne)  female  22.0      1   \n",
      "27                          Van der hoef, Mr. Wyckoff    male  61.0      0   \n",
      "28                            Smith, Mr. James Clinch    male  56.0      0   \n",
      "29                         Isham, Miss. Ann Elizabeth  female  50.0      0   \n",
      "30                          Becker, Master. Richard F    male   1.0      2   \n",
      "\n",
      "    Parch       Ticket      Fare        Cabin Embarked  \n",
      "0       0     PC 17599   71.2833          C85        C  \n",
      "1       0       113803   53.1000         C123        S  \n",
      "2       0        17463   51.8625          E46        S  \n",
      "3       1      PP 9549   16.7000           G6        S  \n",
      "4       0       113783   26.5500         C103        S  \n",
      "5       0       248698   13.0000          D56        S  \n",
      "6       0       113788   35.5000           A6        S  \n",
      "7       2        19950  263.0000  C23 C25 C27        S  \n",
      "8       0     PC 17572   76.7292          D33        C  \n",
      "9       1       113509   61.9792          B30        C  \n",
      "10      0        36973   83.4750          C83        S  \n",
      "11      0   C.A. 29395   10.5000          F33        S  \n",
      "12      0       348123    7.6500        F G73        S  \n",
      "13      2        19950  263.0000  C23 C25 C27        S  \n",
      "14      0  W.E.P. 5734   61.1750          E31        S  \n",
      "15      0     PC 17754   34.6542           A5        C  \n",
      "16      1     PC 17759   63.3583      D10 D12        C  \n",
      "17      1        35281   77.2875          D26        S  \n",
      "18      0       110465   52.0000         C110        S  \n",
      "19      1     PC 17558  247.5208      B58 B60        C  \n",
      "20      0        27267   13.0000         E101        S  \n",
      "21      1        35281   77.2875          D26        S  \n",
      "22      2        11752   26.2833          D47        S  \n",
      "23      0       113803   53.1000         C123        S  \n",
      "24      0     PC 17593   79.2000          B86        C  \n",
      "25      2       230080   26.0000           F2        S  \n",
      "26      0       113776   66.6000           C2        S  \n",
      "27      0       111240   33.5000          B19        S  \n",
      "28      0        17764   30.6958           A7        C  \n",
      "29      0     PC 17595   28.7125          C49        C  \n",
      "30      1       230136   39.0000           F4        S  \n"
     ]
    }
   ],
   "source": [
    "# Load the dataset\n",
    "df= pd.read_csv('titanic.csv')\n",
    "print(df)"
   ]
  },
  {
   "cell_type": "code",
   "execution_count": 7,
   "metadata": {},
   "outputs": [],
   "source": [
    "# Identify the categorical data\n",
    "\n",
    "categorical_features=['Sex','Embarked','Pclass']\n"
   ]
  },
  {
   "cell_type": "code",
   "execution_count": 8,
   "metadata": {},
   "outputs": [],
   "source": [
    "# Implement an instance of the ColumnTransformer class\n",
    "ct=ColumnTransformer(transformers=[('encoder',OneHotEncoder(),categorical_features)],remainder='passthrough')\n"
   ]
  },
  {
   "cell_type": "code",
   "execution_count": 9,
   "metadata": {},
   "outputs": [],
   "source": [
    "\n",
    "# Apply the fit_transform method on the instance of ColumnTransformer\n",
    "X=ct.fit_transform(df)"
   ]
  },
  {
   "cell_type": "code",
   "execution_count": 10,
   "metadata": {},
   "outputs": [],
   "source": [
    "\n",
    "# Convert the output into a NumPy array\n",
    "X=np.array(X)\n"
   ]
  },
  {
   "cell_type": "code",
   "execution_count": 12,
   "metadata": {},
   "outputs": [],
   "source": [
    "\n",
    "# Use LabelEncoder to encode binary categorical data\n",
    "le=LabelEncoder()\n",
    "y=le.fit_transform(df['Survived'])"
   ]
  },
  {
   "cell_type": "code",
   "execution_count": 13,
   "metadata": {},
   "outputs": [
    {
     "name": "stdout",
     "output_type": "stream",
     "text": [
      "[[1.0 0.0 1.0 0.0 1.0 0.0 0.0 2 1\n",
      "  'Cumings, Mrs. John Bradley (Florence Briggs Thayer)' 38.0 1 0\n",
      "  'PC 17599' 71.2833 'C85']\n",
      " [1.0 0.0 0.0 1.0 1.0 0.0 0.0 4 1\n",
      "  'Futrelle, Mrs. Jacques Heath (Lily May Peel)' 35.0 1 0 '113803' 53.1\n",
      "  'C123']\n",
      " [0.0 1.0 0.0 1.0 1.0 0.0 0.0 7 0 'McCarthy, Mr. Timothy J' 54.0 0 0\n",
      "  '17463' 51.8625 'E46']\n",
      " [1.0 0.0 0.0 1.0 0.0 0.0 1.0 11 1 'Sandstrom, Miss. Marguerite Rut' 4.0\n",
      "  1 1 'PP 9549' 16.7 'G6']\n",
      " [1.0 0.0 0.0 1.0 1.0 0.0 0.0 12 1 'Bonnell, Miss. Elizabeth' 58.0 0 0\n",
      "  '113783' 26.55 'C103']\n",
      " [0.0 1.0 0.0 1.0 0.0 1.0 0.0 22 1 'Beesley, Mr. Lawrence' 34.0 0 0\n",
      "  '248698' 13.0 'D56']\n",
      " [0.0 1.0 0.0 1.0 1.0 0.0 0.0 24 1 'Sloper, Mr. William Thompson' 28.0 0\n",
      "  0 '113788' 35.5 'A6']\n",
      " [0.0 1.0 0.0 1.0 1.0 0.0 0.0 28 0 'Fortune, Mr. Charles Alexander' 19.0\n",
      "  3 2 '19950' 263.0 'C23 C25 C27']\n",
      " [1.0 0.0 1.0 0.0 1.0 0.0 0.0 53 1\n",
      "  'Harper, Mrs. Henry Sleeper (Myna Haxtun)' 49.0 1 0 'PC 17572' 76.7292\n",
      "  'D33']\n",
      " [0.0 1.0 1.0 0.0 1.0 0.0 0.0 55 0 'Ostby, Mr. Engelhart Cornelius' 65.0\n",
      "  0 1 '113509' 61.9792 'B30']\n",
      " [0.0 1.0 0.0 1.0 1.0 0.0 0.0 63 0 'Harris, Mr. Henry Birkhardt' 45.0 1 0\n",
      "  '36973' 83.475 'C83']\n",
      " [1.0 0.0 0.0 1.0 0.0 1.0 0.0 67 1 'Nye, Mrs. (Elizabeth Ramell)' 29.0 0\n",
      "  0 'C.A. 29395' 10.5 'F33']\n",
      " [0.0 1.0 0.0 1.0 0.0 0.0 1.0 76 0 'Moen, Mr. Sigurd Hansen' 25.0 0 0\n",
      "  '348123' 7.65 'F G73']\n",
      " [1.0 0.0 0.0 1.0 1.0 0.0 0.0 89 1 'Fortune, Miss. Mabel Helen' 23.0 3 2\n",
      "  '19950' 263.0 'C23 C25 C27']\n",
      " [0.0 1.0 0.0 1.0 1.0 0.0 0.0 93 0 'Chaffee, Mr. Herbert Fuller' 46.0 1 0\n",
      "  'W.E.P. 5734' 61.175 'E31']\n",
      " [0.0 1.0 1.0 0.0 1.0 0.0 0.0 97 0 'Goldschmidt, Mr. George B' 71.0 0 0\n",
      "  'PC 17754' 34.6542 'A5']\n",
      " [0.0 1.0 1.0 0.0 1.0 0.0 0.0 98 1 'Greenfield, Mr. William Bertram' 23.0\n",
      "  0 1 'PC 17759' 63.3583 'D10 D12']\n",
      " [0.0 1.0 0.0 1.0 1.0 0.0 0.0 103 0 'White, Mr. Richard Frasar' 21.0 0 1\n",
      "  '35281' 77.2875 'D26']\n",
      " [0.0 1.0 0.0 1.0 1.0 0.0 0.0 111 0 'Porter, Mr. Walter Chamberlain' 47.0\n",
      "  0 0 '110465' 52.0 'C110']\n",
      " [0.0 1.0 1.0 0.0 1.0 0.0 0.0 119 0 'Baxter, Mr. Quigg Edmond' 24.0 0 1\n",
      "  'PC 17558' 247.5208 'B58 B60']\n",
      " [1.0 0.0 0.0 1.0 0.0 1.0 0.0 124 1 'Webber, Miss. Susan' 32.5 0 0\n",
      "  '27267' 13.0 'E101']\n",
      " [0.0 1.0 0.0 1.0 1.0 0.0 0.0 125 0 'White, Mr. Percival Wayland' 54.0 0\n",
      "  1 '35281' 77.2875 'D26']\n",
      " [1.0 0.0 0.0 1.0 1.0 0.0 0.0 137 1 'Newsom, Miss. Helen Monypeny' 19.0 0\n",
      "  2 '11752' 26.2833 'D47']\n",
      " [0.0 1.0 0.0 1.0 1.0 0.0 0.0 138 0 'Futrelle, Mr. Jacques Heath' 37.0 1\n",
      "  0 '113803' 53.1 'C123']\n",
      " [0.0 1.0 1.0 0.0 1.0 0.0 0.0 140 0 'Giglio, Mr. Victor' 24.0 0 0\n",
      "  'PC 17593' 79.2 'B86']\n",
      " [0.0 1.0 0.0 1.0 0.0 1.0 0.0 149 0\n",
      "  'Navratil, Mr. Michel (\"Louis M Hoffman\")' 36.5 0 2 '230080' 26.0 'F2']\n",
      " [1.0 0.0 0.0 1.0 1.0 0.0 0.0 152 1 'Pears, Mrs. Thomas (Edith Wearne)'\n",
      "  22.0 1 0 '113776' 66.6 'C2']\n",
      " [0.0 1.0 0.0 1.0 1.0 0.0 0.0 171 0 'Van der hoef, Mr. Wyckoff' 61.0 0 0\n",
      "  '111240' 33.5 'B19']\n",
      " [0.0 1.0 1.0 0.0 1.0 0.0 0.0 175 0 'Smith, Mr. James Clinch' 56.0 0 0\n",
      "  '17764' 30.6958 'A7']\n",
      " [1.0 0.0 1.0 0.0 1.0 0.0 0.0 178 0 'Isham, Miss. Ann Elizabeth' 50.0 0 0\n",
      "  'PC 17595' 28.7125 'C49']\n",
      " [0.0 1.0 0.0 1.0 0.0 1.0 0.0 184 1 'Becker, Master. Richard F' 1.0 2 1\n",
      "  '230136' 39.0 'F4']]\n"
     ]
    }
   ],
   "source": [
    "\n",
    "# Print the updated matrix of features and the dependent variable vector\n",
    "print(X)"
   ]
  },
  {
   "cell_type": "code",
   "execution_count": 14,
   "metadata": {},
   "outputs": [
    {
     "name": "stdout",
     "output_type": "stream",
     "text": [
      "[1 1 0 1 1 1 1 0 1 0 0 1 0 1 0 0 1 0 0 0 1 0 1 0 0 0 1 0 0 0 1]\n"
     ]
    }
   ],
   "source": [
    "print(y)"
   ]
  },
  {
   "cell_type": "code",
   "execution_count": null,
   "metadata": {},
   "outputs": [],
   "source": []
  }
 ],
 "metadata": {
  "kernelspec": {
   "display_name": "Python 3",
   "language": "python",
   "name": "python3"
  },
  "language_info": {
   "codemirror_mode": {
    "name": "ipython",
    "version": 3
   },
   "file_extension": ".py",
   "mimetype": "text/x-python",
   "name": "python",
   "nbconvert_exporter": "python",
   "pygments_lexer": "ipython3",
   "version": "3.11.5"
  }
 },
 "nbformat": 4,
 "nbformat_minor": 2
}
